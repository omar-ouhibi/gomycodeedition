{
 "cells": [
  {
   "cell_type": "code",
   "execution_count": 35,
   "id": "8fa222b0",
   "metadata": {},
   "outputs": [
    {
     "name": "stdout",
     "output_type": "stream",
     "text": [
      "(1, 2, 3)\n"
     ]
    }
   ],
   "source": [
    "class Point3D(object):\n",
    "    def __init__(self,x,y,z):\n",
    "        self.x=x\n",
    "        self.y=y\n",
    "        self.z=z\n",
    "\n",
    "    def __repr__(self) :\n",
    "       return  str((self.x, self.y, self.z))\n",
    "\n",
    "\n",
    "\n",
    "my_point=Point3D(1,2,3)\n",
    "print (my_point)"
   ]
  },
  {
   "cell_type": "code",
   "execution_count": 41,
   "id": "dbbb3672",
   "metadata": {},
   "outputs": [
    {
     "name": "stdout",
     "output_type": "stream",
     "text": [
      "120\n"
     ]
    }
   ],
   "source": [
    "class Rectangle():\n",
    "    def __init__(self, l, w):\n",
    "        self.length = l\n",
    "        self.width  = w\n",
    "\n",
    "    def rectangle_area(self):\n",
    "        return self.length*self.width\n",
    "\n",
    "my_rectangle = Rectangle(12, 10)\n",
    "print(my_rectangle.rectangle_area())"
   ]
  },
  {
   "cell_type": "code",
   "execution_count": 57,
   "id": "72fb689e",
   "metadata": {},
   "outputs": [
    {
     "name": "stdout",
     "output_type": "stream",
     "text": [
      "area:  28.26\n",
      "perimeter:  18.84\n",
      "belongs\n"
     ]
    }
   ],
   "source": [
    "from math import sqrt\n",
    "class Circle():\n",
    "    def __init__(self, r,o):\n",
    "        self.radius = r\n",
    "        self.center = o\n",
    "            \n",
    "\n",
    "    def area(self):\n",
    "        return self.radius**2*3.14\n",
    "    \n",
    "    def perimeter(self):\n",
    "        return 2*self.radius*3.14\n",
    "    def distance(self,A):\n",
    "        d=sqrt((self.center[0]-A[0])**2+(self.center[0]-A[0])**2)\n",
    "        if d<=self.radius:\n",
    "            print(\"belongs\")\n",
    "        else:\n",
    "            print(\"out\")\n",
    "            \n",
    "A=(3,5)\n",
    "NewCircle = Circle(3,(1,1))\n",
    "ar=NewCircle.area()\n",
    "pe=NewCircle.perimeter()\n",
    "print(\"area: \",ar)\n",
    "print(\"perimeter: \",pe)\n",
    "NewCircle.distance(A)\n",
    "    \n",
    "    "
   ]
  },
  {
   "cell_type": "code",
   "execution_count": 54,
   "id": "dfc1365b",
   "metadata": {},
   "outputs": [
    {
     "name": "stdout",
     "output_type": "stream",
     "text": [
      "Welcome to Deposit & Withdrawal Machine!\n",
      "Enter amount to be deposited: 200\n",
      "Amount Deposited:  200.0\n",
      "Enter amount to withdraw: 150\n",
      "You withdraw:  150.0\n",
      "Net Available Balance= 50.0\n"
     ]
    }
   ],
   "source": [
    "class Bank_Account:\n",
    "    def __init__(self):\n",
    "        self.balance=0\n",
    "        print(\"Welcome to Deposit & Withdrawal Machine!\")\n",
    "        \n",
    "    def deposit(self):\n",
    "        amount=float(input(\"Enter amount to be deposited: \"))\n",
    "        self.balance += amount\n",
    "        print(\"Amount Deposited: \",amount)\n",
    "    def withdraw(self):\n",
    "        amount = float(input(\"Enter amount to withdraw: \"))\n",
    "        if self.balance>=amount:\n",
    "            self.balance-=amount\n",
    "            print(\"You withdraw: \",amount)\n",
    "        else:\n",
    "            print(\"Insufficient balance \")\n",
    "    def display(self):\n",
    "        print(\"Net Available Balance=\",self.balance)\n",
    "s = Bank_Account()\n",
    "s.deposit()\n",
    "s.withdraw()\n",
    "s.display()"
   ]
  },
  {
   "cell_type": "code",
   "execution_count": null,
   "id": "90033d72",
   "metadata": {},
   "outputs": [],
   "source": []
  }
 ],
 "metadata": {
  "kernelspec": {
   "display_name": "Python 3",
   "language": "python",
   "name": "python3"
  },
  "language_info": {
   "codemirror_mode": {
    "name": "ipython",
    "version": 3
   },
   "file_extension": ".py",
   "mimetype": "text/x-python",
   "name": "python",
   "nbconvert_exporter": "python",
   "pygments_lexer": "ipython3",
   "version": "3.8.8"
  }
 },
 "nbformat": 4,
 "nbformat_minor": 5
}
