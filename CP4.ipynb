{
 "cells": [
  {
   "cell_type": "code",
   "execution_count": 2,
   "id": "af6f7eba",
   "metadata": {},
   "outputs": [
    {
     "name": "stdout",
     "output_type": "stream",
     "text": [
      "Enter first number: 37\n",
      "Enter second number: 4\n",
      "Enter third number: 66\n",
      "The largest number is 66.0\n"
     ]
    }
   ],
   "source": [
    "def sup(num1,num2,num3):\n",
    "    if (num1 > num2) and (num1 > num3):\n",
    "        largest = num1\n",
    "    elif (num2 > num1) and (num2 > num3):\n",
    "        largest = num2\n",
    "    else:\n",
    "        largest = num3\n",
    "    return largest \n",
    "num1 = float(input(\"Enter first number: \"))\n",
    "num2 = float(input(\"Enter second number: \"))\n",
    "num3 = float(input(\"Enter third number: \"))\n",
    "largest=sup(num1,num2,num3)\n",
    "print(\"The largest number is\",largest)\n",
    "    "
   ]
  },
  {
   "cell_type": "code",
   "execution_count": 6,
   "id": "f56b6ab5",
   "metadata": {},
   "outputs": [
    {
     "name": "stdout",
     "output_type": "stream",
     "text": [
      "(50, 30)\n"
     ]
    }
   ],
   "source": [
    "def calculation(a, b):\n",
    "    return a+b, a-b\n",
    "\n",
    "res = calculation(40, 10)\n",
    "print(res)"
   ]
  },
  {
   "cell_type": "code",
   "execution_count": 28,
   "id": "e0e9c44a",
   "metadata": {},
   "outputs": [
    {
     "name": "stdout",
     "output_type": "stream",
     "text": [
      "5\n",
      "12\n"
     ]
    }
   ],
   "source": [
    "l=[1,3,5,9]\n",
    "lpaire=[]\n",
    "limpaire=[]\n",
    "for i in range (0,len(l),2):\n",
    "    lpaire.append(l[i])\n",
    "for i in range (1,len(l),2):\n",
    "    limpaire.append(l[i])\n",
    "def multiplyList(myList) :\n",
    "\n",
    "    result = 1\n",
    "    for x in lpaire:\n",
    "         result = result * x\n",
    "    return result  \n",
    "def somme(mylist):\n",
    "    resul=0\n",
    "    for x in limpaire:\n",
    "        resul = resul + x\n",
    "    return resul\n",
    "res=multiplyList(lpaire)\n",
    "res2=somme(limpaire)\n",
    "print(res)\n",
    "print(res2)"
   ]
  },
  {
   "cell_type": "code",
   "execution_count": 29,
   "id": "e6d36d85",
   "metadata": {},
   "outputs": [
    {
     "name": "stdout",
     "output_type": "stream",
     "text": [
      "green-red-yellow-black-white\n",
      "black-green-red-white-yellow\n"
     ]
    }
   ],
   "source": [
    "items=[n for n in input().split('-')]\n",
    "items.sort()\n",
    "print('-'.join(items))"
   ]
  },
  {
   "cell_type": "code",
   "execution_count": null,
   "id": "b97489a4",
   "metadata": {},
   "outputs": [],
   "source": []
  }
 ],
 "metadata": {
  "kernelspec": {
   "display_name": "Python 3",
   "language": "python",
   "name": "python3"
  },
  "language_info": {
   "codemirror_mode": {
    "name": "ipython",
    "version": 3
   },
   "file_extension": ".py",
   "mimetype": "text/x-python",
   "name": "python",
   "nbconvert_exporter": "python",
   "pygments_lexer": "ipython3",
   "version": "3.8.8"
  }
 },
 "nbformat": 4,
 "nbformat_minor": 5
}
